{
 "cells": [
  {
   "cell_type": "code",
   "execution_count": 52,
   "metadata": {
    "colab": {},
    "colab_type": "code",
    "id": "ljQ3YgE9Kt9M"
   },
   "outputs": [],
   "source": [
    "from keras.models import Sequential\n",
    "from keras.layers import Dense\n",
    "from keras.layers import Convolution2D\n",
    "from keras.layers import MaxPooling2D\n",
    "from keras.layers import Flatten\n",
    "import cv2\n",
    "import tensorflow as tf"
   ]
  },
  {
   "cell_type": "code",
   "execution_count": 4,
   "metadata": {
    "colab": {},
    "colab_type": "code",
    "id": "MtOtVeDtKt90",
    "outputId": "10221804-f664-411e-d679-548889c03542"
   },
   "outputs": [
    {
     "output_type": "execute_result",
     "data": {
      "text/plain": "'c:\\\\Users\\\\haris\\\\Desktop\\\\cnn'"
     },
     "metadata": {},
     "execution_count": 4
    }
   ],
   "source": [
    "import os\n",
    "os.getcwd()"
   ]
  },
  {
   "cell_type": "code",
   "execution_count": 5,
   "metadata": {
    "colab": {},
    "colab_type": "code",
    "id": "OC2Tb4ePKt93"
   },
   "outputs": [],
   "source": [
    "os.chdir('c:\\\\Users\\\\haris\\\\Desktop\\\\cnn')"
   ]
  },
  {
   "cell_type": "code",
   "execution_count": 6,
   "metadata": {
    "colab": {},
    "colab_type": "code",
    "id": "nqPSzJkCKt97"
   },
   "outputs": [],
   "source": [
    "from keras.preprocessing.image import ImageDataGenerator\n",
    "\n",
    "train_datagen = ImageDataGenerator(rescale = 1./255,\n",
    "                                   shear_range = 0.2,\n",
    "                                   zoom_range = 0.2,\n",
    "                                   horizontal_flip = True)\n",
    "\n",
    "test_datagen = ImageDataGenerator(rescale = 1./255)"
   ]
  },
  {
   "cell_type": "code",
   "execution_count": 7,
   "metadata": {
    "colab": {},
    "colab_type": "code",
    "id": "T-cU8p1KKt9-",
    "outputId": "caea294c-c071-431e-86dd-7b971f674fd0",
    "tags": []
   },
   "outputs": [
    {
     "output_type": "stream",
     "name": "stdout",
     "text": "Found 662 images belonging to 4 classes.\nFound 202 images belonging to 4 classes.\n"
    }
   ],
   "source": [
    "x_train = train_datagen.flow_from_directory('Dataset/train',\n",
    "                                                 target_size = (64, 64),\n",
    "                                                 batch_size = 32,\n",
    "                                                     class_mode = 'categorical')\n",
    "x_test = test_datagen.flow_from_directory('Dataset/test',\n",
    "                                            target_size = (64, 64),\n",
    "                                            batch_size = 32,\n",
    "                                            class_mode = 'categorical')\n"
   ]
  },
  {
   "cell_type": "code",
   "execution_count": 8,
   "metadata": {
    "colab": {},
    "colab_type": "code",
    "id": "xdDMz7MgKt-B",
    "outputId": "a9645a3c-7c7c-4693-8d6e-ff873f2c1958",
    "tags": []
   },
   "outputs": [
    {
     "output_type": "stream",
     "name": "stdout",
     "text": "{'crack': 0, 'flakes': 1, 'roof': 2, 'spalling': 3}\n"
    }
   ],
   "source": [
    "print(x_train.class_indices)"
   ]
  },
  {
   "cell_type": "code",
   "execution_count": 9,
   "metadata": {
    "colab": {},
    "colab_type": "code",
    "id": "gXpCn4QGKt9W"
   },
   "outputs": [],
   "source": [
    "model=Sequential()"
   ]
  },
  {
   "cell_type": "code",
   "execution_count": 10,
   "metadata": {
    "colab": {},
    "colab_type": "code",
    "id": "ZxJK7xLiKt9c"
   },
   "outputs": [],
   "source": [
    "model.add(Convolution2D(32,(3,3),input_shape=(64,64,3),activation=\"relu\"))"
   ]
  },
  {
   "cell_type": "code",
   "execution_count": 11,
   "metadata": {
    "colab": {},
    "colab_type": "code",
    "id": "CfCBbAjHKt9h"
   },
   "outputs": [],
   "source": [
    "model.add(MaxPooling2D(pool_size = (2, 2)))"
   ]
  },
  {
   "cell_type": "code",
   "execution_count": 12,
   "metadata": {
    "colab": {},
    "colab_type": "code",
    "id": "AMnhVbBHKt9k"
   },
   "outputs": [],
   "source": [
    "model.add(Flatten())"
   ]
  },
  {
   "cell_type": "code",
   "execution_count": 13,
   "metadata": {
    "colab": {},
    "colab_type": "code",
    "id": "lR5eCF0bKt9o",
    "outputId": "396904d5-f7e9-4a0f-8fe6-fe35bc949544"
   },
   "outputs": [],
   "source": [
    "#Add Hidden Layer\n",
    "model.add(Dense(units=128,init=\"random_uniform\",activation=\"relu\"))"
   ]
  },
  {
   "cell_type": "code",
   "execution_count": 14,
   "metadata": {
    "colab": {},
    "colab_type": "code",
    "id": "M0JKrr4_Kt9s",
    "outputId": "f8c45813-dba0-4204-dcb1-7c9324278ee4"
   },
   "outputs": [],
   "source": [
    "#Add Output layer\n",
    "model.add(Dense( units=4,init=\"random_uniform\",activation=\"softmax\"))"
   ]
  },
  {
   "cell_type": "code",
   "execution_count": 15,
   "metadata": {
    "colab": {},
    "colab_type": "code",
    "id": "wwQFb3Z5Kt9x"
   },
   "outputs": [],
   "source": [
    "model.compile(loss=\"categorical_crossentropy\",optimizer=\"adam\",metrics=[\"accuracy\"])"
   ]
  },
  {
   "cell_type": "code",
   "execution_count": 16,
   "metadata": {
    "colab": {},
    "colab_type": "code",
    "id": "wOD1whXBKt-E",
    "outputId": "e6a4c62c-5eae-42e2-a692-9c1f28806d1f",
    "tags": []
   },
   "outputs": [
    {
     "output_type": "stream",
     "name": "stdout",
     "text": "Epoch 1/15\n190/190 [==============================] - 96s 507ms/step - loss: 1.2057 - accuracy: 0.4711 - val_loss: 1.3242 - val_accuracy: 0.4653\nEpoch 2/15\n190/190 [==============================] - 112s 590ms/step - loss: 0.9292 - accuracy: 0.6244 - val_loss: 1.3164 - val_accuracy: 0.4208\nEpoch 3/15\n190/190 [==============================] - 108s 567ms/step - loss: 0.7207 - accuracy: 0.7222 - val_loss: 1.5460 - val_accuracy: 0.4307\nEpoch 4/15\n190/190 [==============================] - 91s 478ms/step - loss: 0.5287 - accuracy: 0.8042 - val_loss: 2.2107 - val_accuracy: 0.4109\nEpoch 5/15\n190/190 [==============================] - 93s 491ms/step - loss: 0.3848 - accuracy: 0.8643 - val_loss: 4.1049 - val_accuracy: 0.4109\nEpoch 6/15\n190/190 [==============================] - 83s 435ms/step - loss: 0.2873 - accuracy: 0.9000 - val_loss: 3.4251 - val_accuracy: 0.4703\nEpoch 7/15\n190/190 [==============================] - 91s 478ms/step - loss: 0.2276 - accuracy: 0.9244 - val_loss: 3.1502 - val_accuracy: 0.5099\nEpoch 8/15\n190/190 [==============================] - 92s 482ms/step - loss: 0.1812 - accuracy: 0.9373 - val_loss: 1.6587 - val_accuracy: 0.4901\nEpoch 9/15\n190/190 [==============================] - 86s 455ms/step - loss: 0.1323 - accuracy: 0.9586 - val_loss: 1.8853 - val_accuracy: 0.4604\nEpoch 10/15\n190/190 [==============================] - 91s 480ms/step - loss: 0.1274 - accuracy: 0.9617 - val_loss: 2.2796 - val_accuracy: 0.4950\nEpoch 11/15\n190/190 [==============================] - 88s 465ms/step - loss: 0.0862 - accuracy: 0.9751 - val_loss: 3.9873 - val_accuracy: 0.4752\nEpoch 12/15\n190/190 [==============================] - 89s 467ms/step - loss: 0.0742 - accuracy: 0.9790 - val_loss: 2.0358 - val_accuracy: 0.4455\nEpoch 13/15\n190/190 [==============================] - 86s 450ms/step - loss: 0.0957 - accuracy: 0.9691 - val_loss: 0.5984 - val_accuracy: 0.5099\nEpoch 14/15\n190/190 [==============================] - 89s 466ms/step - loss: 0.0731 - accuracy: 0.9773 - val_loss: 5.6219 - val_accuracy: 0.5050\nEpoch 15/15\n190/190 [==============================] - 88s 461ms/step - loss: 0.0553 - accuracy: 0.9834 - val_loss: 6.1668 - val_accuracy: 0.4703\n"
    },
    {
     "output_type": "execute_result",
     "data": {
      "text/plain": "<keras.callbacks.callbacks.History at 0x11f1e628448>"
     },
     "metadata": {},
     "execution_count": 16
    }
   ],
   "source": [
    "model.fit_generator(x_train,\n",
    "                         steps_per_epoch = 190,\n",
    "                         epochs = 15,\n",
    "                         validation_data = x_test,\n",
    "                         validation_steps = 63)"
   ]
  },
  {
   "cell_type": "code",
   "execution_count": 17,
   "metadata": {},
   "outputs": [],
   "source": [
    "model_json = model.to_json()\n",
    "with open(\"model.json\", \"w\") as json_file:\n",
    "    json_file.write(model_json)"
   ]
  },
  {
   "cell_type": "code",
   "execution_count": 18,
   "metadata": {
    "colab": {},
    "colab_type": "code",
    "id": "oSRkkXk9Kt-H"
   },
   "outputs": [],
   "source": [
    "model.save(\"model.h5\")"
   ]
  },
  {
   "cell_type": "code",
   "execution_count": 53,
   "metadata": {
    "tags": []
   },
   "outputs": [
    {
     "output_type": "stream",
     "name": "stdout",
     "text": "Loaded Model from disk\n<tensorflow.python.framework.ops.Graph object at 0x0000011F1C109DC8>\n"
    }
   ],
   "source": [
    "from keras.models import model_from_json \n",
    "\n",
    "# opening and store file in a variable\n",
    "\n",
    "json_file = open('model.json','r')\n",
    "loaded_model_json = json_file.read()\n",
    "json_file.close()\n",
    "\n",
    "# use Keras model_from_json to make a loaded model\n",
    "\n",
    "loaded_model = model_from_json(loaded_model_json)\n",
    "\n",
    "# load weights into new model\n",
    "\n",
    "loaded_model.load_weights(\"model.h5\")\n",
    "print(\"Loaded Model from disk\")\n",
    "\n",
    "# compile and evaluate loaded model\n",
    "\n",
    "loaded_model.compile(loss='categorical_crossentropy',optimizer='adam',metrics=['accuracy'])\n",
    "\n",
    "#graph = tf.get_default_graph()\n",
    "graph = tf.compat.v1.get_default_graph()\n",
    "\n",
    "print(graph)"
   ]
  },
  {
   "cell_type": "code",
   "execution_count": 20,
   "metadata": {
    "colab": {},
    "colab_type": "code",
    "id": "gWPAbGnkKt-K"
   },
   "outputs": [],
   "source": [
    "from keras.models import load_model\n",
    "import numpy as np\n",
    "import cv2"
   ]
  },
  {
   "cell_type": "code",
   "execution_count": 48,
   "metadata": {
    "tags": []
   },
   "outputs": [
    {
     "output_type": "stream",
     "name": "stdout",
     "text": "[1]\n[[0. 1. 0. 0.]]\n"
    }
   ],
   "source": [
    "import numpy as np\n",
    "from keras.preprocessing import image\n",
    "test_image = image.load_img('Dataset/single_prediction/4.jpg', target_size = (64, 64))\n",
    "test_image = image.img_to_array(test_image)\n",
    "test_image = np.expand_dims(test_image, axis = 0)\n",
    "result = model.predict_classes(test_image)\n",
    "x_train.class_indices\n",
    "print(result)\n",
    "result_array = model.predict(test_image)\n",
    "print(result_array)\n",
    "\n",
    "if result== 0:\n",
    "  prediction = 'Cracks'\n",
    "elif result == 1:\n",
    "  prediction = 'Flakes'\n",
    "elif result == 2:\n",
    "  prediction = 'roof'\n",
    "else:\n",
    "  prediction = 'Spalling'\n"
   ]
  },
  {
   "cell_type": "code",
   "execution_count": 47,
   "metadata": {
    "colab": {},
    "colab_type": "code",
    "id": "V6beJvP9Kt-V",
    "tags": []
   },
   "outputs": [
    {
     "output_type": "stream",
     "name": "stdout",
     "text": "Flakes\n"
    }
   ],
   "source": [
    "print(prediction)"
   ]
  },
  {
   "cell_type": "code",
   "execution_count": 23,
   "metadata": {
    "tags": []
   },
   "outputs": [
    {
     "output_type": "stream",
     "name": "stdout",
     "text": "63/63 [==============================] - 17s 263ms/step\nFinal loss: 2.56\nFinal accuracy: 47.03%\n"
    }
   ],
   "source": [
    "final_loss, final_accuracy = model.evaluate(x_test, steps = 63)\n",
    "print('Final loss: {:.2f}'.format(final_loss))\n",
    "print('Final accuracy: {:.2f}%'.format(final_accuracy * 100))"
   ]
  },
  {
   "cell_type": "code",
   "execution_count": 24,
   "metadata": {},
   "outputs": [],
   "source": [
    "# import matplotlib.pyplot as plt\n",
    "# IMG_INDEX = 7  # change this to look at other images\n",
    "\n",
    "# plt.imshow(x_train[IMG_INDEX] ,cmap=plt.cm.binary)\n",
    "# plt.xlabel(class_names[train_labels[IMG_INDEX][0]])\n",
    "# plt.show()"
   ]
  },
  {
   "cell_type": "code",
   "execution_count": 25,
   "metadata": {
    "colab": {},
    "colab_type": "code",
    "id": "GzXv312UKt-R",
    "outputId": "f5afc40d-81ea-4793-f6d6-b04e24cd2643"
   },
   "outputs": [],
   "source": [
    "#frame=cv2.imread('C:\\\\Users\\\\haris\\\\Desktop\\\\Section 40 - Convolutional Neural Networks (CNN)\\\\Dataset\\\\test_set\\\\cracks\\\\c5.jpg')\n",
    "#data = detect(frame)\n"
   ]
  },
  {
   "cell_type": "code",
   "execution_count": 26,
   "metadata": {},
   "outputs": [],
   "source": [
    "# import matplotlib.pyplot as plt\n",
    "\n",
    "# plt.figure()\n",
    "# plt.ylabel('Loss (training and validation)')\n",
    "# plt.xlabel('Training Steps')\n",
    "# plt.ylim([0,50])\n",
    "# plt.plot(hist['loss'])\n",
    "# plt.plot(hist['val_loss'])\n",
    "# plt.figure()\n",
    "# plt.ylabel('Accuracy (training and validation)')\n",
    "# plt.xlabel('Training Steps')\n",
    "# plt.ylim([0,1])\n",
    "# plt.plot(hist['acc'])\n",
    "# plt.plot(hist['val_acc'])"
   ]
  }
 ],
 "metadata": {
  "colab": {
   "name": "Testing Notebook.ipynb",
   "provenance": []
  },
  "kernelspec": {
   "display_name": "Python 3",
   "language": "python",
   "name": "python3"
  },
  "language_info": {
   "codemirror_mode": {
    "name": "ipython",
    "version": 3
   },
   "file_extension": ".py",
   "mimetype": "text/x-python",
   "name": "python",
   "nbconvert_exporter": "python",
   "pygments_lexer": "ipython3",
   "version": "3.7.6-final"
  }
 },
 "nbformat": 4,
 "nbformat_minor": 1
}